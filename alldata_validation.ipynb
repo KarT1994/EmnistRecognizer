{
 "cells": [
  {
   "cell_type": "markdown",
   "metadata": {},
   "source": [
    "# numpyだけで実装するアルファベット26文字画像認識\n",
    "<a5>フレームワークを一切使用せずnumpyで画像認識ニューラルネットワークを実装<br></a5>"
   ]
  },
  {
   "cell_type": "code",
   "execution_count": 1,
   "metadata": {
    "scrolled": true
   },
   "outputs": [
    {
     "name": "stderr",
     "output_type": "stream",
     "text": [
      "Using TensorFlow backend.\n"
     ]
    }
   ],
   "source": [
    "\"\"\"\n",
    "必要なライブラリをインポート\n",
    "\"\"\"\n",
    "# 公開ライブラリ\n",
    "import numpy as np\n",
    "import pandas as pd\n",
    "import matplotlib.pyplot as plt\n",
    "import pickle\n",
    "from PIL import Image\n",
    "from sklearn.model_selection import train_test_split\n",
    "\n",
    "# 自作ライブラリ\n",
    "from libs.layers import TwoConvNet7\n",
    "from libs.optimizer import RMSProp, Adam, Adadelta"
   ]
  },
  {
   "cell_type": "markdown",
   "metadata": {},
   "source": [
    "# すべてのテストデータで検証\n",
    "<a5>学習時の損失と精度は500枚の画像で算出したので、テストデータすべての場合を確認する</a5>"
   ]
  },
  {
   "cell_type": "code",
   "execution_count": 6,
   "metadata": {},
   "outputs": [
    {
     "name": "stdout",
     "output_type": "stream",
     "text": [
      "[0, 0, 0, 0, 0, 0, 0, 0, 0, 0]\n",
      "[22, 6, 15, 14, 22, 16, 12, 10, 21, 23, 9, 13, 17, 20, 25]\n",
      "(20800, 1, 28, 28)\n",
      "40\n",
      "acc ;  0.93855\n",
      "loss:  0.48950054390346853\n"
     ]
    }
   ],
   "source": [
    "\"\"\"\n",
    "全てのテストデータで検証\n",
    "\"\"\"\n",
    "# emnist 読み込み\n",
    "# 今回はletters（アルファベット小文字a~z）を対象\n",
    "from emnist import extract_training_samples, extract_test_samples\n",
    "x_train, y_train = extract_training_samples(\"letters\")\n",
    "x_test, y_test = extract_test_samples('letters')\n",
    "\n",
    "# 画像の前処理\n",
    "img_side = 28\n",
    "unique_classes = np.unique(y_train)\n",
    "num_classes = len(unique_classes)\n",
    "\n",
    "#  labelsのOne-Hotベクトル化\n",
    "y_train = y_train - 1;\n",
    "y_test = y_test - 1;\n",
    "print(y_test.tolist()[:10])\n",
    "print(y_train.tolist()[:15])\n",
    "y_test = np.identity(num_classes)[y_test]\n",
    "y_train = np.identity(num_classes)[y_train]\n",
    "\n",
    "# 白黒反転＋正規化\n",
    "X_train = -(x_train - 255) /255\n",
    "X_test = -(x_test - 255) / 255\n",
    "X_train = X_train.reshape(-1,1,28,28)\n",
    "X_test = X_test.reshape(-1,1,28,28)\n",
    "print(X_test.shape)\n",
    "\n",
    "with open(\"model.pickle\", \"rb\") as f:\n",
    "    model = pickle.load(f)\n",
    "    \n",
    "#　すべてのテストデータで精度算出\n",
    "total_acc = 0\n",
    "total_loss = 0\n",
    "alldata_acc = 0\n",
    "alldata_loss = 0\n",
    "val_batch_size = 500\n",
    "val_iter_num = X_test.shape[0] // (val_batch_size) - 1\n",
    "print(val_iter_num)\n",
    "for it in range(val_iter_num):\n",
    "    accuracy = model.accuracy(X_test[val_batch_size * it:val_batch_size*(it+1)], y_test[val_batch_size * it:val_batch_size*(it+1)])\n",
    "    loss  = model.loss(X_test[val_batch_size * it:val_batch_size*(it+1)], y_test[val_batch_size * it:val_batch_size*(it+1)])\n",
    "    total_acc += accuracy\n",
    "    total_loss += loss\n",
    "\n",
    "alldatas_acc = total_acc / val_iter_num\n",
    "alldatas_loss = total_loss / val_iter_num\n",
    "print(\"acc ; \",alldatas_acc)\n",
    "print(\"loss: \",alldatas_loss)"
   ]
  },
  {
   "cell_type": "markdown",
   "metadata": {},
   "source": [
    "<a5>一部データに対して精度が低下：95.2% → 93.8%<br>データ数が増えた分、後者の方が実際の精度として信頼できるはず。<br>過学習まではしていないので、リソースをより増やした環境でモニタしながらハイパーパラメータを調整する必要がありそう。</a5>"
   ]
  },
  {
   "cell_type": "code",
   "execution_count": null,
   "metadata": {},
   "outputs": [],
   "source": []
  },
  {
   "cell_type": "code",
   "execution_count": null,
   "metadata": {},
   "outputs": [],
   "source": []
  },
  {
   "cell_type": "code",
   "execution_count": null,
   "metadata": {},
   "outputs": [],
   "source": []
  }
 ],
 "metadata": {
  "kernelspec": {
   "display_name": "Python 3",
   "language": "python",
   "name": "python3"
  },
  "language_info": {
   "codemirror_mode": {
    "name": "ipython",
    "version": 3
   },
   "file_extension": ".py",
   "mimetype": "text/x-python",
   "name": "python",
   "nbconvert_exporter": "python",
   "pygments_lexer": "ipython3",
   "version": "3.6.12"
  }
 },
 "nbformat": 4,
 "nbformat_minor": 2
}
